{
 "cells": [
  {
   "cell_type": "code",
   "execution_count": null,
   "metadata": {},
   "outputs": [],
   "source": [
    "import scipy.io\n",
    "from sklearn.metrics import accuracy_score\n",
    "from sklearn.model_selection import KFold\n",
    "from sklearn import svm\n",
    "from skfeature.function.information_theoretical_based import MRMR\n",
    "\n",
    "\n",
    "def main():\n",
    "    # load data\n",
    "    n_samples, n_features = X.shape    # number of samples and number of features\n",
    "\n",
    "    # split data into 10 folds\n",
    "    ss = KFold(n_splits = 10)\n",
    "\n",
    "    # perform evaluation on classification task\n",
    "    num_fea = 10    # number of selected features\n",
    "    clf = svm.LinearSVC()    # linear SVM\n",
    "\n",
    "    correct = 0\n",
    "    for train,test in ss.split(X):\n",
    "        # obtain the index of each feature on the training set\n",
    "        idx,_,_ = MRMR.mrmr(X[train], Y[train], n_selected_features=num_fea)\n",
    "\n",
    "        # obtain the dataset on the selected features\n",
    "        features = X[:, idx[0:num_fea]]\n",
    "\n",
    "        # train a classification model with the selected features on the training dataset\n",
    "        clf.fit(features[train], Y[train])\n",
    "\n",
    "        # predict the class labels of test data\n",
    "        y_predict = clf.predict(features[test])\n",
    "\n",
    "        # obtain the classification accuracy on the test data\n",
    "        acc = accuracy_score(Y[test], y_predict)\n",
    "        correct = correct + acc\n",
    "\n",
    "    # output the average classification accuracy over all 10 folds\n",
    "    print ('Accuracy:', float(correct)/10)\n",
    "\n",
    "if __name__ == '__main__':\n",
    "    main()"
   ]
  }
 ],
 "metadata": {
  "kernelspec": {
   "display_name": "Python 3",
   "language": "python",
   "name": "python3"
  },
  "language_info": {
   "codemirror_mode": {
    "name": "ipython",
    "version": 3
   },
   "file_extension": ".py",
   "mimetype": "text/x-python",
   "name": "python",
   "nbconvert_exporter": "python",
   "pygments_lexer": "ipython3",
   "version": "3.7.4"
  }
 },
 "nbformat": 4,
 "nbformat_minor": 2
}
